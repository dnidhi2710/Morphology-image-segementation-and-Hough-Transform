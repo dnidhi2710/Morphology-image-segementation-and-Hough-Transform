{
 "cells": [
  {
   "cell_type": "code",
   "execution_count": 1,
   "metadata": {},
   "outputs": [],
   "source": [
    "import cv2\n",
    "import numpy as np\n",
    "from matplotlib import pyplot as plt\n",
    "from collections import Counter"
   ]
  },
  {
   "cell_type": "code",
   "execution_count": 226,
   "metadata": {},
   "outputs": [],
   "source": [
    "#this function returns the max value for the given matrix\n",
    "def get_Max(matrix):\n",
    "    largest_num = matrix[0][0]\n",
    "    for row_idx, row in enumerate(matrix):\n",
    "        for col_idx, num in enumerate(row):\n",
    "            if num > largest_num:\n",
    "                largest_num = num\n",
    "\n",
    "    return largest_num\n",
    "\n",
    "#This function normalises the image matrix to 0-255 scale\n",
    "def Normalise_Matrix(Matrix):\n",
    "    row = len(Matrix)\n",
    "    col = len(Matrix[0])\n",
    "    MAX_VALUE = get_Max(Matrix)\n",
    "    for i in range(row):\n",
    "        for j in range(col):\n",
    "            Matrix[i][j] = (Matrix[i][j]/MAX_VALUE)*255\n",
    "    return Matrix\n",
    "\n",
    "#This function generates a matrix with given row,col size filled with zeros\n",
    "def initialise_matrix(row, col):\n",
    "    matrix = [[0 for x in range(col)] for y in range(row)]\n",
    "    return matrix\n",
    "\n",
    "# funtion to get 3*3 matrix based on its position\n",
    "def get_3_cross3(matrix, row, col):\n",
    "    MAT = initialise_matrix(3, 3)\n",
    "    if row == 0 or col == 0:\n",
    "        MAT[0][0] = 0\n",
    "    else:\n",
    "        MAT[0][0] = matrix[row-1][col-1]\n",
    "\n",
    "    if row == 0:\n",
    "        MAT[0][1] = 0\n",
    "    else:\n",
    "        MAT[0][1] = matrix[row-1][col]\n",
    "\n",
    "    if row == 0 or col == len(matrix[0])-1:\n",
    "        MAT[0][2] = 0\n",
    "    else:\n",
    "        MAT[0][2] = matrix[row-1][col+1]\n",
    "\n",
    "    if col == 0:\n",
    "        MAT[1][0] = 0\n",
    "    else:\n",
    "        MAT[1][0] = matrix[row][col-1]\n",
    "\n",
    "    MAT[1][1] = matrix[row][col]\n",
    "\n",
    "    if col == len(matrix[0])-1:\n",
    "        MAT[1][2] = 0\n",
    "    else:\n",
    "        MAT[1][2] = matrix[row][col+1]\n",
    "\n",
    "    if row == len(matrix)-1 or col == 0:\n",
    "        MAT[2][0] = 0\n",
    "    else:\n",
    "        MAT[2][0] = matrix[row+1][col-1]\n",
    "\n",
    "    if row == len(matrix)-1:\n",
    "        MAT[2][1] = 0\n",
    "    else:\n",
    "        MAT[2][1] = matrix[row+1][col]\n",
    "\n",
    "    if row == len(matrix)-1 or col == len(matrix[0])-1:\n",
    "        MAT[2][2] = 0\n",
    "    else:\n",
    "        MAT[2][2] = matrix[row+1][col+1]\n",
    "\n",
    "    return MAT\n",
    "\n",
    "#this function pads 0 for the edge rows and cols\n",
    "def generatePatchMatrix(matrix, row, col):\n",
    "    PATCH_MAT = initialise_matrix(5, 5)\n",
    "    row_i = row - 2\n",
    "    for i in range(5):\n",
    "        col_i = col - 2\n",
    "        for j in range(5):\n",
    "            if row_i < 0 or row_i > len(matrix)-1 or col_i < 0 or col_i > len(matrix[0])-1:\n",
    "                PATCH_MAT[i][j] = 0\n",
    "            else:\n",
    "                PATCH_MAT[i][j] = matrix[row_i][col_i]\n",
    "            col_i = col_i + 1\n",
    "\n",
    "        if i > 4:\n",
    "            row_i = row - 2\n",
    "        else:\n",
    "            row_i = row_i + 1\n",
    "    return PATCH_MAT\n",
    "\n",
    "\n",
    "# this function does element wise multiplication of the given 2 matrices\n",
    "def elem_wise_operation(kernel, pos,size):\n",
    "    op = initialise_matrix(size, size)\n",
    "    op = np.multiply(kernel,pos)\n",
    "    return op\n",
    "\n",
    "# this function returns the sum of all the values in a matrix\n",
    "def sum_of_elems(MAT):\n",
    "    value = 0\n",
    "    row = len(MAT)\n",
    "    col = len(MAT[0])\n",
    "    for i in range(row):\n",
    "        for j in range(col):\n",
    "            value = value + MAT[i][j]\n",
    "    return value\n",
    "\n",
    "def mask_Input_Image(image):\n",
    "    op_mat = initialise_matrix(len(image), len(image[0]))\n",
    "    for i in range(len(image)):\n",
    "        for j in range(len(image[0])):\n",
    "            pos_mat = get_3_cross3(image, i, j)\n",
    "            computed_mat = np.multiply(pos_mat, kernel)\n",
    "            op_mat[i][j] = sum_of_elems(computed_mat)\n",
    "    return op_mat"
   ]
  },
  {
   "cell_type": "code",
   "execution_count": 290,
   "metadata": {},
   "outputs": [
    {
     "name": "stdout",
     "output_type": "stream",
     "text": [
      "[[-1 -1 -1]\n",
      " [-1  8 -1]\n",
      " [-1 -1 -1]]\n",
      "(766, 571)\n",
      "mask image generated\n"
     ]
    },
    {
     "data": {
      "image/png": "[encoded data removed]",
      "text/plain": [
       "<Figure size 432x288 with 1 Axes>"
      ]
     },
     "metadata": {},
     "output_type": "display_data"
    }
   ],
   "source": [
    "#Color_image = cv2.imread('original_imgs/point.jpg')\n",
    "img = cv2.imread('original_imgs/turbine-blade.jpg', cv2.IMREAD_GRAYSCALE)\n",
    "#img = cv2.imread('original_imgs/point.jpg',0)\n",
    "kernel = [[-1, -1, -1],[-1, 8, -1],[-1, -1, -1]]\n",
    "kernel = np.array(kernel)\n",
    "print(kernel)\n",
    "print(img.shape)\n",
    "\n",
    "mask_img = mask_Input_Image(img)\n",
    "\n",
    "cv2.imwrite(\"masked_image.jpg\", np.asarray(mask_img))\n",
    "print(\"mask image generated\")\n",
    "histogram_img = np.copy(Normalise_Matrix(mask_img))\n",
    "arr=[]\n",
    "for i in range(histogram_img.shape[0]):\n",
    "    for j in range(histogram_img.shape[1]):\n",
    "        if histogram_img[i,j]!=0:\n",
    "            arr.append(histogram_img[i,j])    \n",
    "\n",
    "C = Counter(arr)\n",
    "x, y = list(C.keys()), list(C.values())\n",
    "plt.bar(x, y)\n",
    "plt.show()\n",
    "#plt.hist(np.asarray(mask_img).ravel(),256,[0,256])\n",
    "#plt.show()"
   ]
  },
  {
   "cell_type": "code",
   "execution_count": 291,
   "metadata": {},
   "outputs": [
    {
     "name": "stdout",
     "output_type": "stream",
     "text": [
      "59,570\n",
      "249,445\n"
     ]
    },
    {
     "data": {
      "text/plain": [
       "True"
      ]
     },
     "execution_count": 291,
     "metadata": {},
     "output_type": "execute_result"
    }
   ],
   "source": [
    "Color_image = cv2.imread('original_imgs/turbine-blade.jpg')\n",
    "output_i = np.copy(histogram_img) * 0.\n",
    "for i in range(histogram_img.shape[0]):\n",
    "    for j in range(histogram_img.shape[1]):\n",
    "        if np.abs(histogram_img[i,j]) > 254 :\n",
    "            output_i[i,j] = 255.\n",
    "            print(str(i)+\",\"+str(j))\n",
    "            \n",
    "cv2.circle(Color_image, (445,249), 15, (0,255,0), 3)\n",
    "cv2.imwrite(\"output/point_detect.jpg\",Color_image)"
   ]
  },
  {
   "cell_type": "code",
   "execution_count": 287,
   "metadata": {},
   "outputs": [
    {
     "data": {
      "image/png": "[encoded data removed]",
      "text/plain": [
       "<Figure size 432x288 with 1 Axes>"
      ]
     },
     "metadata": {},
     "output_type": "display_data"
    }
   ],
   "source": [
    "original_seg = cv2.imread('original_imgs/segment.jpg')\n",
    "seg_img = cv2.imread('original_imgs/segment.jpg', cv2.IMREAD_GRAYSCALE)\n",
    "hist_img = np.copy(seg_img)\n",
    "array=[]\n",
    "for i in range(hist_img.shape[0]):\n",
    "    for j in range(hist_img.shape[1]):\n",
    "        if hist_img[i,j]!=0: \n",
    "            array.append(hist_img[i,j])    \n",
    "\n",
    "ounter = Counter(array)\n",
    "x, y = list(ounter.keys()), list(ounter.values())\n",
    "plt.bar(x, y)\n",
    "plt.show()"
   ]
  },
  {
   "cell_type": "code",
   "execution_count": 288,
   "metadata": {},
   "outputs": [],
   "source": [
    "output_img = np.copy(seg_img) * 1.\n",
    "\n",
    "for i in range(seg_img.shape[0]):\n",
    "    for j in range(seg_img.shape[1]):\n",
    "        if seg_img[i,j] < 203: #170.0 and seg_img[i,j]<190.0:\n",
    "            output_img[i,j] = 0."
   ]
  },
  {
   "cell_type": "code",
   "execution_count": 292,
   "metadata": {},
   "outputs": [
    {
     "data": {
      "text/plain": [
       "True"
      ]
     },
     "execution_count": 292,
     "metadata": {},
     "output_type": "execute_result"
    }
   ],
   "source": [
    "cv2.rectangle(original_seg,(160,125),(210,168),(0,255,0),2)\n",
    "cv2.rectangle(original_seg,(250,210),(305,76),(0,255,0),2)\n",
    "cv2.rectangle(original_seg,(330,285),(363,20),(0,255,0),2)\n",
    "cv2.rectangle(original_seg,(388,255),(425,38),(0,255,0),2)\n",
    "cv2.imwrite(\"output/segment_detect.jpg\",original_seg)"
   ]
  },
  {
   "cell_type": "code",
   "execution_count": null,
   "metadata": {},
   "outputs": [],
   "source": []
  }
 ],
 "metadata": {
  "kernelspec": {
   "display_name": "Python 3",
   "language": "python",
   "name": "python3"
  },
  "language_info": {
   "codemirror_mode": {
    "name": "ipython",
    "version": 3
   },
   "file_extension": ".py",
   "mimetype": "text/x-python",
   "name": "python",
   "nbconvert_exporter": "python",
   "pygments_lexer": "ipython3",
   "version": "3.5.5"
  }
 },
 "nbformat": 4,
 "nbformat_minor": 2
}
