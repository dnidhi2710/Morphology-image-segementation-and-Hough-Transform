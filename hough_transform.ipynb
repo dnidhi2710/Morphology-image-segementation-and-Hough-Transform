{
 "cells": [
  {
   "cell_type": "code",
   "execution_count": 1,
   "metadata": {},
   "outputs": [],
   "source": [
    "import cv2\n",
    "import numpy as np\n",
    "from matplotlib import pyplot as plt"
   ]
  },
  {
   "cell_type": "code",
   "execution_count": 2,
   "metadata": {},
   "outputs": [],
   "source": [
    "def get_Max(matrix):\n",
    "    largest_num = matrix[0][0]\n",
    "    for row_idx, row in enumerate(matrix):\n",
    "        for col_idx, num in enumerate(row):\n",
    "            if num > largest_num:\n",
    "                largest_num = num\n",
    "\n",
    "    return largest_num\n",
    "\n",
    "\n",
    "def Normalise_Matrix(Matrix):\n",
    "    row = len(Matrix)\n",
    "    col = len(Matrix[0])\n",
    "    MAX_VALUE = get_Max(Matrix)\n",
    "    for i in range(row):\n",
    "        for j in range(col):\n",
    "            Matrix[i][j] = (Matrix[i][j]/MAX_VALUE)*255\n",
    "\n",
    "    return Matrix\n",
    "\n",
    "\n",
    "def initialise_matrix(row, col):\n",
    "    matrix = [[0 for x in range(col)] for y in range(row)]\n",
    "    return matrix\n",
    "\n",
    "\n",
    "def elem_wise_multiple(MAT_A, MAT_B, row, col):\n",
    "    MAT = initialise_matrix(3, 3)\n",
    "    for i in range(row):\n",
    "        for j in range(col):\n",
    "            MAT[i][j] = MAT_A[i][j] * MAT_B[i][j]\n",
    "    return MAT\n",
    "\n",
    "def sum_of_elems(MAT):\n",
    "    value = 0\n",
    "    row = len(MAT)\n",
    "    col = len(MAT[0])\n",
    "    for i in range(row):\n",
    "        for j in range(col):\n",
    "            value = value + MAT[i][j]\n",
    "    \n",
    "    return value\n",
    "\n",
    "# funtion to get 3*3 matrix based on its position\n",
    "def get_3_cross3(matrix, row, col):\n",
    "    MAT = initialise_matrix(3, 3)\n",
    "    if row == 0 or col == 0:\n",
    "        MAT[0][0] = 0\n",
    "    else:\n",
    "        MAT[0][0] = matrix[row-1][col-1]\n",
    "\n",
    "    if row == 0:\n",
    "        MAT[0][1] = 0\n",
    "    else:\n",
    "        MAT[0][1] = matrix[row-1][col]\n",
    "\n",
    "    if row == 0 or col == len(matrix[0])-1:\n",
    "        MAT[0][2] = 0\n",
    "    else:\n",
    "        MAT[0][2] = matrix[row-1][col+1]\n",
    "\n",
    "    if col == 0:\n",
    "        MAT[1][0] = 0\n",
    "    else:\n",
    "        MAT[1][0] = matrix[row][col-1]\n",
    "\n",
    "    MAT[1][1] = matrix[row][col]\n",
    "\n",
    "    if col == len(matrix[0])-1:\n",
    "        MAT[1][2] = 0\n",
    "    else:\n",
    "        MAT[1][2] = matrix[row][col+1]\n",
    "\n",
    "    if row == len(matrix)-1 or col == 0:\n",
    "        MAT[2][0] = 0\n",
    "    else:\n",
    "        MAT[2][0] = matrix[row+1][col-1]\n",
    "\n",
    "    if row == len(matrix)-1:\n",
    "        MAT[2][1] = 0\n",
    "    else:\n",
    "        MAT[2][1] = matrix[row+1][col]\n",
    "\n",
    "    if row == len(matrix)-1 or col == len(matrix[0])-1:\n",
    "        MAT[2][2] = 0\n",
    "    else:\n",
    "        MAT[2][2] = matrix[row+1][col+1]\n",
    "\n",
    "    return MAT"
   ]
  },
  {
   "cell_type": "code",
   "execution_count": 3,
   "metadata": {},
   "outputs": [],
   "source": [
    "def detectEdges(image):\n",
    "    \n",
    "    INPUT_IMAGE = cv2.cvtColor(image,cv2.COLOR_BGR2GRAY)\n",
    "\n",
    "    # cv.namedWindow(\"Input Image\")\n",
    "    # cv.imshow('Image',inputim)\n",
    "    # cv.waitKey(0)\n",
    "    print(INPUT_IMAGE.shape)\n",
    "\n",
    "\n",
    "    # Initialise the Gx and  Gy matrix\n",
    "    Gx = [[1, 0, -1], \n",
    "    [2, 0, -2],\n",
    "    [1, 0, -1]]\n",
    "    Gy = [[1, 2, 1], \n",
    "    [0, 0, 0],\n",
    "    [-1, -2, -1]]\n",
    "\n",
    "    rows = len(INPUT_IMAGE)\n",
    "    cols = len(INPUT_IMAGE[0])\n",
    "    INPUTXEDGE = initialise_matrix(rows, cols)\n",
    "    NUM_MAT = initialise_matrix(rows, cols)\n",
    "    INPUTYEDGE = initialise_matrix(rows, cols)\n",
    "\n",
    "    # loop through the matrices and calculate Gx * Input\n",
    "    for i in range(rows):\n",
    "        for j in range(cols):\n",
    "            THREE_CROSS_THREE = get_3_cross3(INPUT_IMAGE, i, j)\n",
    "            OUTPUT = elem_wise_multiple(Gx, THREE_CROSS_THREE, 3, 3)\n",
    "            INPUTXEDGE[i][j] = sum_of_elems(OUTPUT)\n",
    "\n",
    "    for i in range(rows):\n",
    "        for j in range(cols):\n",
    "            THREE_CROSS_THREE = get_3_cross3(INPUT_IMAGE, i, j)\n",
    "            OUTPUT = elem_wise_multiple(Gy, THREE_CROSS_THREE, 3, 3)\n",
    "            INPUTYEDGE[i][j] = sum_of_elems(OUTPUT)\n",
    "\n",
    "    OP = initialise_matrix(rows, cols)\n",
    "\n",
    "    for i in range(rows):\n",
    "        for j in range(cols):\n",
    "            OP[i][j] = (((INPUTXEDGE[i][j]**2)+(INPUTYEDGE[i][j]**2))**0.5)\n",
    "\n",
    "    INPUTXEDGE = Normalise_Matrix(INPUTXEDGE)\n",
    "    INPUTYEDGE = Normalise_Matrix(INPUTYEDGE)\n",
    "    OP = Normalise_Matrix(OP)\n",
    "\n",
    "    INPUTXEDGE = np.asarray(INPUTXEDGE)\n",
    "    INPUTYEDGE = np.asarray(INPUTYEDGE)\n",
    "    OP = np.asarray(OP)\n",
    "    \n",
    "    print(\"edge detected\")\n",
    "    return OP"
   ]
  },
  {
   "cell_type": "code",
   "execution_count": 4,
   "metadata": {},
   "outputs": [],
   "source": [
    "def hough_line(img):\n",
    "      # Rho and Theta ranges\n",
    "    thetas = np.deg2rad(np.arange(-90.0, 90.0))\n",
    "    width, height = img.shape\n",
    "    diag_len = np.ceil(np.sqrt(img.shape[0] * img.shape[0] + img.shape[1] * img.shape[1]))   # max_dist\n",
    "    # Hough accumulator array of theta vs rho\n",
    "    accumulator = np.zeros((2 * int(diag_len), len(thetas)))\n",
    "    rhos=[]\n",
    "    for i in range(img.shape[0]):\n",
    "        for j in range(img.shape[1]):\n",
    "            if img[i,j]!= 0.:\n",
    "                for x in range(len(thetas)):\n",
    "                    # Calculate rho. diag_len is added for a positive index\n",
    "                    rho = round(i * np.cos(thetas[x]) + j * np.sin(thetas[x]))+diag_len\n",
    "                    rhos.append(rho)\n",
    "                    accumulator[int(rho), int(x)] += 1\n",
    "\n",
    "    return accumulator, thetas, rhos"
   ]
  },
  {
   "cell_type": "code",
   "execution_count": 75,
   "metadata": {},
   "outputs": [],
   "source": [
    "def minimise_no_rhos(rho,theta):\n",
    "    rho_op =[] \n",
    "    theta_op = []\n",
    "    count= 0\n",
    "    array = []\n",
    "    for x in rho:\n",
    "        count+=1\n",
    "        if len(rho_op) == 0:\n",
    "            rho_op.append(x)\n",
    "        else:\n",
    "            if (x - rho[count-1]) < 10:\n",
    "                array.append(x)\n",
    "            else:\n",
    "                rho_op.append(np.median(array))\n",
    "                theta_op.append(theta[count-1])\n",
    "                array = []\n",
    "                \n",
    "    return rho_op,theta_op"
   ]
  },
  {
   "cell_type": "code",
   "execution_count": 6,
   "metadata": {},
   "outputs": [
    {
     "data": {
      "text/plain": [
       "True"
      ]
     },
     "execution_count": 6,
     "metadata": {},
     "output_type": "execute_result"
    }
   ],
   "source": [
    "img = cv2.imread('original_imgs/hough.jpg')\n",
    "hsv_img = cv2.cvtColor(img,cv2.COLOR_BGR2HSV)\n",
    "lower_red = np.array([170,110,110])\n",
    "upper_red = np.array([180,150,150])\n",
    "mask1 = cv2.inRange(hsv_img, lower_red, upper_red)\n",
    "\n",
    "output_hsv = hsv_img.copy()\n",
    "output_hsv[np.where(mask1==0)] = 0\n",
    "\n",
    "cv2.imwrite(\"onlyred.jpg\",output_hsv)"
   ]
  },
  {
   "cell_type": "code",
   "execution_count": 7,
   "metadata": {},
   "outputs": [
    {
     "name": "stdout",
     "output_type": "stream",
     "text": [
      "(477, 666)\n",
      "edge detected\n"
     ]
    },
    {
     "data": {
      "text/plain": [
       "True"
      ]
     },
     "execution_count": 7,
     "metadata": {},
     "output_type": "execute_result"
    }
   ],
   "source": [
    "edges = detectEdges(output_hsv)\n",
    "cv2.imwrite(\"red_edge.jpg\",edges)"
   ]
  },
  {
   "cell_type": "code",
   "execution_count": 76,
   "metadata": {},
   "outputs": [
    {
     "name": "stdout",
     "output_type": "stream",
     "text": [
      "(1640, 180)\n",
      "114662\n",
      "285.0\n"
     ]
    }
   ],
   "source": [
    "accumulators,thetas,rhos = hough_line(edges)\n",
    "print(accumulators.shape)\n",
    "# code to get the indices which are above the range\n",
    "idx = np.argmax(accumulators)\n",
    "print(idx)\n",
    "print(accumulators[int(idx/accumulators.shape[1]),int(idx%accumulators.shape[1])])\n",
    "mask = [accumulators > 150.] [0] * 1.\n",
    "accum = accumulators * mask\n",
    "rho = []\n",
    "theta = []\n",
    "for i in range(mask.shape[0]):\n",
    "    for j in range(mask.shape[1]):\n",
    "        if mask[i,j]==1:\n",
    "            rho.append(i)\n",
    "            theta.append(thetas[j])         "
   ]
  },
  {
   "cell_type": "code",
   "execution_count": 77,
   "metadata": {},
   "outputs": [
    {
     "name": "stdout",
     "output_type": "stream",
     "text": [
      "[257, 258, 259, 261, 351, 352, 353, 356, 357, 445, 446, 450, 540, 541, 542, 546, 630, 631, 635, 636, 637, 638, 640, 641, 642, 732, 733, 734, 737, 738]\n",
      "[-1.53588974175501, -1.53588974175501, -1.53588974175501, -1.5184364492350666, -1.53588974175501, -1.53588974175501, -1.53588974175501, -1.5184364492350666, -1.5184364492350666, -1.53588974175501, -1.53588974175501, -1.5184364492350666, -1.53588974175501, -1.53588974175501, -1.53588974175501, -1.5184364492350666, -1.5533430342749532, -1.5533430342749532, -1.53588974175501, -1.53588974175501, -1.53588974175501, -1.53588974175501, -1.5184364492350666, -1.5184364492350666, -1.5184364492350666, -1.53588974175501, -1.53588974175501, -1.53588974175501, -1.5184364492350666, -1.5184364492350666]\n"
     ]
    }
   ],
   "source": [
    "print(rho)\n",
    "print(theta)"
   ]
  },
  {
   "cell_type": "code",
   "execution_count": 79,
   "metadata": {},
   "outputs": [],
   "source": [
    "r,t= minimise_no_rhos(rho,theta)"
   ]
  },
  {
   "cell_type": "code",
   "execution_count": 33,
   "metadata": {},
   "outputs": [],
   "source": [
    "rho = [257,258,352,353,445,446,541,542,636,637,734,733]\n",
    "theta = [-1.53588974175501 ,-1.53588974175501,-1.53588974175501, -1.53588974175501,-1.53588974175501,-1.53588974175501]\n",
    "#gray_img = cv2.imread('original_imgs/hough.jpg', cv2.IMREAD_GRAYSCALE)\n",
    "dup = np.copy(edges)\n",
    "#gs = gray_img.shape\n",
    "diag_len = np.ceil(np.sqrt(dup.shape[0] *dup.shape[0]+ dup.shape[1] * dup.shape[1]))\n",
    "indices = []\n",
    "for i in range(dup.shape[0]):\n",
    "    for j in range(dup.shape[1]):\n",
    "        for t in theta:\n",
    "            rho_dup = round(i * np.cos(t) + j * np.sin(t))+diag_len\n",
    "            #print(rho_dup, rho)\n",
    "            for r in rho:\n",
    "                if r == rho_dup:\n",
    "                    indices.append([i, j])            "
   ]
  },
  {
   "cell_type": "code",
   "execution_count": 34,
   "metadata": {},
   "outputs": [
    {
     "data": {
      "text/plain": [
       "True"
      ]
     },
     "execution_count": 34,
     "metadata": {},
     "output_type": "execute_result"
    }
   ],
   "source": [
    "gray_img = cv2.imread('original_imgs/hough.jpg')\n",
    "output = np.zeros((gray_img.shape[0],gray_img.shape[1]))\n",
    "\n",
    "for i in indices:\n",
    "    gray_img[i[0],i[1]] = (0,255,0)\n",
    "\n",
    "cv2.imwrite(\"output/red_line.jpg\",gray_img)"
   ]
  },
  {
   "cell_type": "code",
   "execution_count": 49,
   "metadata": {},
   "outputs": [
    {
     "data": {
      "text/plain": [
       "True"
      ]
     },
     "execution_count": 49,
     "metadata": {},
     "output_type": "execute_result"
    }
   ],
   "source": [
    "img_b = cv2.imread('original_imgs/hough.jpg')\n",
    "hsv_img_b = cv2.cvtColor(img_b,cv2.COLOR_BGR2HSV)\n",
    "lower_blue = np.array([95,60,110],np.uint8)\n",
    "upper_blue = np.array([110,140,150],np.uint8)\n",
    "mask1 = cv2.inRange(hsv_img_b, lower_blue, upper_blue)\n",
    "\n",
    "output_hsv_b = hsv_img_b.copy()\n",
    "output_hsv_b[np.where(mask1==0)] = 0\n",
    "\n",
    "cv2.imwrite(\"onlyblue.jpg\",output_hsv_b)"
   ]
  },
  {
   "cell_type": "code",
   "execution_count": 50,
   "metadata": {},
   "outputs": [
    {
     "name": "stdout",
     "output_type": "stream",
     "text": [
      "(477, 666)\n",
      "edge detected\n"
     ]
    },
    {
     "data": {
      "text/plain": [
       "True"
      ]
     },
     "execution_count": 50,
     "metadata": {},
     "output_type": "execute_result"
    }
   ],
   "source": [
    "edges_b = detectEdges(output_hsv_b)\n",
    "cv2.imwrite(\"blue_edge.jpg\",edges_b)"
   ]
  },
  {
   "cell_type": "code",
   "execution_count": 62,
   "metadata": {},
   "outputs": [
    {
     "name": "stdout",
     "output_type": "stream",
     "text": [
      "(1640, 180)\n",
      "140436\n",
      "468.0\n",
      "[480, 481, 482, 483, 486, 487, 488, 489, 490, 494, 495, 496, 497, 501, 502, 503, 504, 505, 543, 544, 545, 547, 551, 552, 553, 554, 555, 556, 557, 558, 561, 562, 563, 564, 565, 566, 569, 570, 571, 572, 573, 574, 578, 579, 580, 581, 582, 583, 615, 616, 617, 618, 619, 624, 625, 626, 627, 628, 629, 630, 631, 633, 634, 635, 636, 637, 638, 640, 641, 642, 643, 644, 645, 646, 647, 647, 651, 652, 653, 654, 655, 656, 690, 691, 692, 693, 697, 698, 699, 700, 701, 702, 703, 704, 705, 705, 706, 707, 708, 709, 710, 711, 712, 713, 714, 715, 716, 717, 717, 722, 723, 724, 753, 754, 761, 762, 763, 764, 765, 766, 767, 769, 770, 771, 772, 773, 774, 775, 776, 777, 777, 778, 779, 780, 781, 782, 782, 783, 784, 785, 786, 786, 787, 787, 788, 788, 789, 789, 790, 791, 792, 793, 795, 796, 797, 831, 832, 838, 839, 840, 841, 842, 845, 846, 847, 848, 849, 850, 852, 853, 854, 855, 856, 857, 858, 859, 860, 861, 862, 863, 863, 864, 919, 924, 925, 926, 927, 930, 931, 932, 933, 937, 938]\n",
      "[-0.9599310885968813, -0.9599310885968813, -0.9599310885968813, -0.9599310885968813, -0.9424777960769379, -0.9424777960769379, -0.9424777960769379, -0.9424777960769379, -0.9424777960769379, -0.9250245035569946, -0.9250245035569946, -0.9250245035569946, -0.9250245035569946, -0.9075712110370514, -0.9075712110370514, -0.9075712110370514, -0.9075712110370514, -0.9075712110370514, -0.9773843811168246, -0.9773843811168246, -0.9773843811168246, -0.9773843811168246, -0.9599310885968813, -0.9599310885968813, -0.9599310885968813, -0.9599310885968813, -0.9599310885968813, -0.9599310885968813, -0.9599310885968813, -0.9599310885968813, -0.9424777960769379, -0.9424777960769379, -0.9424777960769379, -0.9424777960769379, -0.9424777960769379, -0.9424777960769379, -0.9250245035569946, -0.9250245035569946, -0.9250245035569946, -0.9250245035569946, -0.9250245035569946, -0.9250245035569946, -0.9075712110370514, -0.9075712110370514, -0.9075712110370514, -0.9075712110370514, -0.9075712110370514, -0.9075712110370514, -0.9773843811168246, -0.9773843811168246, -0.9773843811168246, -0.9773843811168246, -0.9773843811168246, -0.9599310885968813, -0.9599310885968813, -0.9599310885968813, -0.9599310885968813, -0.9599310885968813, -0.9599310885968813, -0.9599310885968813, -0.9599310885968813, -0.9424777960769379, -0.9424777960769379, -0.9424777960769379, -0.9424777960769379, -0.9424777960769379, -0.9424777960769379, -0.9250245035569946, -0.9250245035569946, -0.9250245035569946, -0.9250245035569946, -0.9250245035569946, -0.9250245035569946, -0.9250245035569946, -0.9250245035569946, -0.9075712110370514, -0.9075712110370514, -0.9075712110370514, -0.9075712110370514, -0.9075712110370514, -0.9075712110370514, -0.9075712110370514, -0.9773843811168246, -0.9773843811168246, -0.9773843811168246, -0.9773843811168246, -0.9599310885968813, -0.9599310885968813, -0.9599310885968813, -0.9599310885968813, -0.9599310885968813, -0.9599310885968813, -0.9599310885968813, -0.9599310885968813, -0.9599310885968813, -0.9424777960769379, -0.9424777960769379, -0.9424777960769379, -0.9424777960769379, -0.9424777960769379, -0.9424777960769379, -0.9250245035569946, -0.9250245035569946, -0.9250245035569946, -0.9250245035569946, -0.9250245035569946, -0.9250245035569946, -0.9250245035569946, -0.9075712110370514, -0.9075712110370514, -0.9075712110370514, -0.9075712110370514, -0.9948376736367679, -0.9948376736367679, -0.9773843811168246, -0.9773843811168246, -0.9773843811168246, -0.9773843811168246, -0.9773843811168246, -0.9773843811168246, -0.9773843811168246, -0.9599310885968813, -0.9599310885968813, -0.9599310885968813, -0.9599310885968813, -0.9599310885968813, -0.9599310885968813, -0.9599310885968813, -0.9599310885968813, -0.9599310885968813, -0.9424777960769379, -0.9424777960769379, -0.9424777960769379, -0.9424777960769379, -0.9424777960769379, -0.9424777960769379, -0.9250245035569946, -0.9250245035569946, -0.9250245035569946, -0.9250245035569946, -0.9250245035569946, -0.9075712110370514, -0.9250245035569946, -0.9075712110370514, -0.9250245035569946, -0.9075712110370514, -0.9250245035569946, -0.9075712110370514, -0.9075712110370514, -0.9075712110370514, -0.9075712110370514, -0.9075712110370514, -0.9075712110370514, -0.9075712110370514, -0.9075712110370514, -0.9948376736367679, -0.9948376736367679, -0.9773843811168246, -0.9773843811168246, -0.9773843811168246, -0.9773843811168246, -0.9773843811168246, -0.9599310885968813, -0.9599310885968813, -0.9599310885968813, -0.9599310885968813, -0.9599310885968813, -0.9599310885968813, -0.9424777960769379, -0.9424777960769379, -0.9424777960769379, -0.9424777960769379, -0.9424777960769379, -0.9250245035569946, -0.9250245035569946, -0.9250245035569946, -0.9250245035569946, -0.9250245035569946, -0.9250245035569946, -0.9250245035569946, -0.9075712110370514, -0.9075712110370514, -0.9773843811168246, -0.9599310885968813, -0.9599310885968813, -0.9599310885968813, -0.9599310885968813, -0.9424777960769379, -0.9424777960769379, -0.9424777960769379, -0.9424777960769379, -0.9250245035569946, -0.9250245035569946]\n"
     ]
    }
   ],
   "source": [
    "accumulators_b,thetas_b,rhos_b = hough_line(edges_b)\n",
    "print(accumulators_b.shape)\n",
    "# code to get the indices which are above the range\n",
    "idx_b = np.argmax(accumulators_b)\n",
    "print(idx_b)\n",
    "print(accumulators_b[int(idx_b/accumulators_b.shape[1]),int(idx_b%accumulators_b.shape[1])])\n",
    "mask_b = [accumulators_b > 125.] [0] * 1.\n",
    "accum_b = accumulators_b * mask_b\n",
    "rho_b = []\n",
    "theta_b = []\n",
    "for i in range(mask_b.shape[0]):\n",
    "    for j in range(mask_b.shape[1]):\n",
    "        if mask_b[i,j]==1:\n",
    "            rho_b.append(i)\n",
    "            theta_b.append(thetas_b[j])\n"
   ]
  },
  {
   "cell_type": "code",
   "execution_count": 80,
   "metadata": {},
   "outputs": [],
   "source": [
    "r_b,t_b= minimise_no_rhos(rho_b,theta_b)"
   ]
  },
  {
   "cell_type": "code",
   "execution_count": 65,
   "metadata": {},
   "outputs": [],
   "source": [
    "rho_b = [489,490,564,565,637,638,708,709,779,780,853,854,930,931]\n",
    "theta_b =[-0.9424777960769379]\n",
    "#gray_img = cv2.imread('original_imgs/hough.jpg', cv2.IMREAD_GRAYSCALE)\n",
    "dup_b = np.copy(edges_b)\n",
    "#gs = gray_img.shape\n",
    "diag_len_b = np.ceil(np.sqrt(dup_b.shape[0] *dup_b.shape[0]+ dup_b.shape[1] * dup_b.shape[1]))\n",
    "indices_b = []\n",
    "for i in range(dup_b.shape[0]):\n",
    "    for j in range(dup_b.shape[1]):\n",
    "        for t in theta_b:\n",
    "            rho_dup = round(i * np.cos(t) + j * np.sin(t))+diag_len_b\n",
    "            #print(rho_dup, rho_b)\n",
    "            for r in rho_b:\n",
    "                if r == rho_dup:\n",
    "                    indices_b.append([i, j])  "
   ]
  },
  {
   "cell_type": "code",
   "execution_count": 66,
   "metadata": {},
   "outputs": [
    {
     "data": {
      "text/plain": [
       "True"
      ]
     },
     "execution_count": 66,
     "metadata": {},
     "output_type": "execute_result"
    }
   ],
   "source": [
    "gray_img_b = cv2.imread('original_imgs/hough.jpg')\n",
    "#output = np.zeros((gray_img_b.shape[0],gray_img_b.shape[1]))\n",
    "\n",
    "for i in indices_b:\n",
    "    gray_img_b[i[0],i[1]] = (0,255,0)\n",
    "\n",
    "cv2.imwrite(\"output/blue_line.jpg\",gray_img_b)"
   ]
  },
  {
   "cell_type": "code",
   "execution_count": 117,
   "metadata": {},
   "outputs": [
    {
     "data": {
      "text/plain": [
       "True"
      ]
     },
     "execution_count": 117,
     "metadata": {},
     "output_type": "execute_result"
    }
   ],
   "source": [
    "img = cv2.imread('original_imgs/hough.jpg')\n",
    "hsv_img = cv2.cvtColor(img,cv2.COLOR_BGR2HSV)\n",
    "lower_red = np.array([0,20,50])\n",
    "upper_red = np.array([60,255,255])\n",
    "mask1 = cv2.inRange(hsv_img, lower_red, upper_red)\n",
    "\n",
    "output_hsv = hsv_img.copy()\n",
    "output_hsv[np.where(mask1==0)] = 0\n",
    "\n",
    "cv2.imwrite(\"onlycoin.jpg\",output_hsv)"
   ]
  },
  {
   "cell_type": "code",
   "execution_count": null,
   "metadata": {},
   "outputs": [
    {
     "name": "stdout",
     "output_type": "stream",
     "text": [
      "(477, 666)\n"
     ]
    }
   ],
   "source": [
    "edges_b = detectEdges(output_hsv)\n",
    "cv2.imwrite(\"coin_Edge.jpg\",edges_b)"
   ]
  },
  {
   "cell_type": "code",
   "execution_count": null,
   "metadata": {},
   "outputs": [],
   "source": [
    "def HoughCircles(input): \n",
    "    circles=[]\n",
    "    rows = input.shape[0] \n",
    "    cols = input.shape[1] \n",
    "    \n",
    "    sinang = dict() \n",
    "    cosang = dict() \n",
    "    \n",
    "    for angle in range(0,360): \n",
    "        sinang[angle] = np.sin(angle * np.pi/180) \n",
    "        cosang[angle] = np.cos(angle * np.pi/180) \n",
    "            \n",
    "    radius = [i for i in range(10,20)]\n",
    "\n",
    "    threshold = 190 \n",
    "    \n",
    "    for r in radius:\n",
    "        acc_cells = np.full((rows,cols),fill_value=0,dtype=np.uint64)\n",
    "         \n",
    "        for x in range(rows): \n",
    "            for y in range(cols): \n",
    "                if input[x][y] != 0:# edge \n",
    "                    for angle in range(0,360): \n",
    "                        b = y - round(r * sinang[angle]) \n",
    "                        a = x - round(r * cosang[angle]) \n",
    "                        if a >= 0 and a < rows and b >= 0 and b < cols: \n",
    "                            acc_cells[int(a)][int(b)] += 1\n",
    "                             \n",
    "        print('For radius: ',r)\n",
    "        acc_cell_max = np.amax(acc_cells)\n",
    "        print('max acc value: ',acc_cell_max)\n",
    "        \n",
    "        if(acc_cell_max > 500):  \n",
    "\n",
    "            print(\"Detecting the circles for radius: \",r)       \n",
    "            \n",
    "            # Initial threshold\n",
    "            acc_cells[acc_cells < 150] = 0  \n",
    "               \n",
    "            # find the circles for this radius \n",
    "            for i in range(rows): \n",
    "                for j in range(cols): \n",
    "                    if(i > 0 and j > 0 and i < rows-1 and j < cols-1 and acc_cells[i][j] >= 150):\n",
    "                        avg_sum = np.float32((acc_cells[i][j]+acc_cells[i-1][j]+acc_cells[i+1][j]+acc_cells[i][j-1]+acc_cells[i][j+1]+acc_cells[i-1][j-1]+acc_cells[i-1][j+1]+acc_cells[i+1][j-1]+acc_cells[i+1][j+1])/9) \n",
    "                        print(\"Intermediate avg_sum: \",avg_sum)\n",
    "                        if(avg_sum >= 33):\n",
    "                            print(\"For radius: \",r,\"average: \",avg_sum,\"\\n\")\n",
    "                            circles.append((i,j,r))\n",
    "                            acc_cells[i:i+5,j:j+7] = 0\n",
    "                 \n",
    "    return circles"
   ]
  },
  {
   "cell_type": "code",
   "execution_count": null,
   "metadata": {},
   "outputs": [],
   "source": [
    "    # Detect Circle \n",
    "circles = HoughCircles(edges_b)  \n",
    "    \n",
    "    # Print the output\n",
    "    for vertex in circles:\n",
    "        cv2.circle(img,(vertex[1],vertex[0]),vertex[2],(0,255,0),1)\n",
    "             \n",
    "cv2.imwrite('Circle_Detected_Image.jpg',img) "
   ]
  },
  {
   "cell_type": "code",
   "execution_count": null,
   "metadata": {},
   "outputs": [],
   "source": []
  }
 ],
 "metadata": {
  "kernelspec": {
   "display_name": "Python 3",
   "language": "python",
   "name": "python3"
  },
  "language_info": {
   "codemirror_mode": {
    "name": "ipython",
    "version": 3
   },
   "file_extension": ".py",
   "mimetype": "text/x-python",
   "name": "python",
   "nbconvert_exporter": "python",
   "pygments_lexer": "ipython3",
   "version": "3.5.5"
  }
 },
 "nbformat": 4,
 "nbformat_minor": 2
}
